{
 "cells": [
  {
   "cell_type": "markdown",
   "metadata": {},
   "source": [
    "Multiple variable assignments as independent are no issue, regardless of case"
   ]
  },
  {
   "cell_type": "code",
   "execution_count": 1,
   "metadata": {},
   "outputs": [
    {
     "data": {
      "text/plain": [
       "\u001b[36mMONTH\u001b[39m: \u001b[32mInt\u001b[39m = \u001b[32m12\u001b[39m\n",
       "\u001b[36mDAY\u001b[39m: \u001b[32mInt\u001b[39m = \u001b[32m24\u001b[39m"
      ]
     },
     "execution_count": 1,
     "metadata": {},
     "output_type": "execute_result"
    }
   ],
   "source": [
    "var MONTH = 12; var DAY = 24;"
   ]
  },
  {
   "cell_type": "markdown",
   "metadata": {},
   "source": [
    "Multiple variable assignment with 'tuple unpacking' not so much"
   ]
  },
  {
   "cell_type": "code",
   "execution_count": 1,
   "metadata": {},
   "outputs": [
    {
     "name": "stderr",
     "output_type": "stream",
     "text": [
      "cmd1.sc:1: not found: value HOUR\n",
      "var (HOUR, MINUTE, SECOND) = (12, 0, 0)\n",
      "     ^cmd1.sc:1: not found: value MINUTE\n",
      "var (HOUR, MINUTE, SECOND) = (12, 0, 0)\n",
      "           ^cmd1.sc:1: not found: value SECOND\n",
      "var (HOUR, MINUTE, SECOND) = (12, 0, 0)\n",
      "                   ^Compilation Failed"
     ]
    },
    {
     "ename": "",
     "evalue": "",
     "output_type": "error",
     "traceback": [
      "Compilation Failed"
     ]
    }
   ],
   "source": [
    "var (HOUR, MINUTE, SECOND) = (12, 0, 0)"
   ]
  },
  {
   "cell_type": "markdown",
   "metadata": {},
   "source": [
    "However..."
   ]
  },
  {
   "cell_type": "code",
   "execution_count": 2,
   "metadata": {},
   "outputs": [
    {
     "data": {
      "text/plain": [
       "\u001b[36mhour\u001b[39m: \u001b[32mInt\u001b[39m = \u001b[32m12\u001b[39m\n",
       "\u001b[36mminute\u001b[39m: \u001b[32mInt\u001b[39m = \u001b[32m0\u001b[39m\n",
       "\u001b[36msecond\u001b[39m: \u001b[32mInt\u001b[39m = \u001b[32m0\u001b[39m"
      ]
     },
     "execution_count": 2,
     "metadata": {},
     "output_type": "execute_result"
    }
   ],
   "source": [
    "var (hour, minute, second) = (12, 0, 0)"
   ]
  },
  {
   "cell_type": "markdown",
   "metadata": {},
   "source": [
    "Case *matters*"
   ]
  },
  {
   "cell_type": "markdown",
   "metadata": {},
   "source": [
    "Under the hood there is pattern matching going on with multiple variable assignments. The below example illustrates why case is important when doing pattern matching."
   ]
  },
  {
   "cell_type": "code",
   "execution_count": 3,
   "metadata": {},
   "outputs": [
    {
     "data": {
      "text/plain": [
       "\u001b[36mMAX\u001b[39m: \u001b[32mInt\u001b[39m = \u001b[32m5000\u001b[39m\n",
       "defined \u001b[32mfunction\u001b[39m \u001b[36misMax\u001b[39m\n",
       "\u001b[36mmatchedCase\u001b[39m: \u001b[32mString\u001b[39m = \u001b[32m\"This is the max\"\u001b[39m\n",
       "\u001b[36mmatchedUnderscoreCase\u001b[39m: \u001b[32mString\u001b[39m = \u001b[32m\"Not max\"\u001b[39m"
      ]
     },
     "execution_count": 3,
     "metadata": {},
     "output_type": "execute_result"
    }
   ],
   "source": [
    "val MAX = 5000\n",
    "\n",
    "def isMax(num: Int) = {\n",
    "    num match {\n",
    "        case MAX => \"This is the max\"\n",
    "        case _ => \"Not max\"\n",
    "    }\n",
    "}\n",
    "\n",
    "val matchedCase = isMax(5000)\n",
    "val matchedUnderscoreCase = isMax(5001)"
   ]
  }
 ],
 "metadata": {
  "kernelspec": {
   "display_name": "Scala",
   "language": "scala",
   "name": "scala"
  },
  "language_info": {
   "codemirror_mode": "text/x-scala",
   "file_extension": ".scala",
   "mimetype": "text/x-scala",
   "name": "scala",
   "nbconvert_exporter": "script",
   "version": "2.12.8"
  }
 },
 "nbformat": 4,
 "nbformat_minor": 2
}
