{
 "cells": [
  {
   "cell_type": "markdown",
   "metadata": {},
   "source": [
    "Being aware of the type of collection you have when chaining operations is vital - especially when your signature goes to the more generic level like an `Iterable`"
   ]
  },
  {
   "cell_type": "code",
   "execution_count": 1,
   "metadata": {},
   "outputs": [
    {
     "data": {
      "text/plain": [
       "defined \u001b[32mfunction\u001b[39m \u001b[36msumSizes\u001b[39m"
      ]
     },
     "execution_count": 1,
     "metadata": {},
     "output_type": "execute_result"
    }
   ],
   "source": [
    "def sumSizes(collections: Iterable[Iterable[_]]): Int = collections.map(_.size).sum"
   ]
  },
  {
   "cell_type": "code",
   "execution_count": 2,
   "metadata": {},
   "outputs": [
    {
     "data": {
      "text/plain": [
       "\u001b[36mres1\u001b[39m: \u001b[32mInt\u001b[39m = \u001b[32m4\u001b[39m"
      ]
     },
     "execution_count": 2,
     "metadata": {},
     "output_type": "execute_result"
    }
   ],
   "source": [
    "sumSizes(List(Set(1, 2), List(3, 4)))"
   ]
  },
  {
   "cell_type": "code",
   "execution_count": 3,
   "metadata": {},
   "outputs": [
    {
     "data": {
      "text/plain": [
       "\u001b[36mres2\u001b[39m: \u001b[32mInt\u001b[39m = \u001b[32m2\u001b[39m"
      ]
     },
     "execution_count": 3,
     "metadata": {},
     "output_type": "execute_result"
    }
   ],
   "source": [
    "sumSizes(Set(List(1, 2), Set(3, 4)))"
   ]
  },
  {
   "cell_type": "markdown",
   "metadata": {},
   "source": [
    "The latter (`res2`) returns this because of the wrapping `Iterable` - the `Set`\n",
    "\n",
    "When looking at it step by step we have:\n",
    "\n",
    "```\n",
    "// starting point\n",
    ">> Set(List(1, 2), Set(3, 4))\n",
    "\n",
    "// get the `.size`\n",
    ">> Set(2, 2) // size of first item (List(1, 2)) is 2 and size of second item (Set(3, 4)) is 2\n",
    "\n",
    "// ultimately turned into\n",
    ">> Set(2) // because a `Set` does not contain duplicates\n",
    "\n",
    ">> Set(2).sum // returns 2\n",
    "```"
   ]
  }
 ],
 "metadata": {
  "kernelspec": {
   "display_name": "Scala",
   "language": "scala",
   "name": "scala"
  },
  "language_info": {
   "codemirror_mode": "text/x-scala",
   "file_extension": ".scala",
   "mimetype": "text/x-scala",
   "name": "scala",
   "nbconvert_exporter": "script",
   "version": "2.12.8"
  }
 },
 "nbformat": 4,
 "nbformat_minor": 2
}
