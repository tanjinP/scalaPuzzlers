{
 "cells": [
  {
   "cell_type": "markdown",
   "metadata": {},
   "source": [
    "Declaration and instantion order matters, the 'shortcut' in `BConstructor` does affect the side effect"
   ]
  },
  {
   "cell_type": "code",
   "execution_count": 1,
   "metadata": {},
   "outputs": [
    {
     "data": {
      "text/plain": [
       "defined \u001b[32mtrait\u001b[39m \u001b[36mA\u001b[39m\n",
       "defined \u001b[32mclass\u001b[39m \u001b[36mBMember\u001b[39m\n",
       "defined \u001b[32mclass\u001b[39m \u001b[36mBConstructor\u001b[39m"
      ]
     },
     "execution_count": 1,
     "metadata": {},
     "output_type": "execute_result"
    }
   ],
   "source": [
    "trait A {\n",
    "    val audience: String\n",
    "    println(\"Hello \" + audience)\n",
    "}\n",
    "\n",
    "class BMember(a: String = \"World\") extends A {\n",
    "    val audience = a\n",
    "    println(\"I repeat: Hello \" + audience)\n",
    "}\n",
    "\n",
    "class BConstructor(val audience: String = \"Word\") extends A {\n",
    "    println(\"I repeat: Hello \" + audience)\n",
    "}"
   ]
  },
  {
   "cell_type": "markdown",
   "metadata": {},
   "source": [
    "Extending then declaring `audience` in effect"
   ]
  },
  {
   "cell_type": "code",
   "execution_count": 2,
   "metadata": {},
   "outputs": [
    {
     "name": "stdout",
     "output_type": "stream",
     "text": [
      "Hello null\n",
      "I repeat: Hello Readers\n"
     ]
    },
    {
     "data": {
      "text/plain": [
       "\u001b[36mres1\u001b[39m: \u001b[32mBMember\u001b[39m = ammonite.$sess.cmd0$Helper$BMember@67013671"
      ]
     },
     "execution_count": 2,
     "metadata": {},
     "output_type": "execute_result"
    }
   ],
   "source": [
    "new BMember(\"Readers\")"
   ]
  },
  {
   "cell_type": "markdown",
   "metadata": {},
   "source": [
    "Declaring `audience` then extending the relevant `trait`"
   ]
  },
  {
   "cell_type": "code",
   "execution_count": 3,
   "metadata": {},
   "outputs": [
    {
     "name": "stdout",
     "output_type": "stream",
     "text": [
      "Hello Readers\n",
      "I repeat: Hello Readers\n"
     ]
    },
    {
     "data": {
      "text/plain": [
       "\u001b[36mres2\u001b[39m: \u001b[32mBConstructor\u001b[39m = ammonite.$sess.cmd0$Helper$BConstructor@5f49b20a"
      ]
     },
     "execution_count": 3,
     "metadata": {},
     "output_type": "execute_result"
    }
   ],
   "source": [
    "new BConstructor(\"Readers\")"
   ]
  },
  {
   "cell_type": "markdown",
   "metadata": {},
   "source": [
    "The way to think about it is the class instantiation parameters are being passed into the corresponding trait that is extended. \n",
    "\n",
    "The explicit behavior (like the `println` in `trait A`) will then be executed using these parameters if possible, otherwise it will continue to the class definition itself."
   ]
  }
 ],
 "metadata": {
  "kernelspec": {
   "display_name": "Scala",
   "language": "scala",
   "name": "scala"
  },
  "language_info": {
   "codemirror_mode": "text/x-scala",
   "file_extension": ".scala",
   "mimetype": "text/x-scala",
   "name": "scala",
   "nbconvert_exporter": "script",
   "version": "2.12.8"
  }
 },
 "nbformat": 4,
 "nbformat_minor": 2
}
